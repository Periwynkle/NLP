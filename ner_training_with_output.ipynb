{
 "cells": [
  {
   "cell_type": "markdown",
   "metadata": {},
   "source": [
    "### I. Import Libraries"
   ]
  },
  {
   "cell_type": "code",
   "execution_count": 1,
   "metadata": {},
   "outputs": [],
   "source": [
    "import time\n",
    "import pickle\n",
    "import string\n",
    "import pandas as pd\n",
    "import matplotlib.pyplot as plt\n",
    "import seaborn as sns\n",
    "\n",
    "from sklearn.model_selection import train_test_split, cross_val_score\n",
    "from sklearn.pipeline import Pipeline\n",
    "from sklearn import metrics\n",
    "from sklearn.feature_extraction import DictVectorizer\n",
    "from sklearn.tree import DecisionTreeClassifier\n",
    "from sklearn.naive_bayes import MultinomialNB\n",
    "from sklearn.linear_model import LogisticRegression\n",
    "from sklearn.svm import LinearSVC\n",
    "from sklearn.ensemble import VotingClassifier\n",
    "\n",
    "%matplotlib inline\n",
    "sns.set(font_scale=1.25)\n",
    "sns.set(style='white')\n",
    "sns.set(style='whitegrid', color_codes=True)"
   ]
  },
  {
   "cell_type": "markdown",
   "metadata": {},
   "source": [
    "### II. Import and Examine Dataset"
   ]
  },
  {
   "cell_type": "code",
   "execution_count": 2,
   "metadata": {},
   "outputs": [
    {
     "data": {
      "text/html": [
       "<div>\n",
       "<style scoped>\n",
       "    .dataframe tbody tr th:only-of-type {\n",
       "        vertical-align: middle;\n",
       "    }\n",
       "\n",
       "    .dataframe tbody tr th {\n",
       "        vertical-align: top;\n",
       "    }\n",
       "\n",
       "    .dataframe thead th {\n",
       "        text-align: right;\n",
       "    }\n",
       "</style>\n",
       "<table border=\"1\" class=\"dataframe\">\n",
       "  <thead>\n",
       "    <tr style=\"text-align: right;\">\n",
       "      <th></th>\n",
       "      <th>token</th>\n",
       "      <th>pos_tag</th>\n",
       "      <th>chunk_tag</th>\n",
       "      <th>ne_tag</th>\n",
       "    </tr>\n",
       "  </thead>\n",
       "  <tbody>\n",
       "    <tr>\n",
       "      <th>0</th>\n",
       "      <td>-DOCSTART-</td>\n",
       "      <td>-X-</td>\n",
       "      <td>-X-</td>\n",
       "      <td>O</td>\n",
       "    </tr>\n",
       "    <tr>\n",
       "      <th>1</th>\n",
       "      <td>EU</td>\n",
       "      <td>NNP</td>\n",
       "      <td>B-NP</td>\n",
       "      <td>B-ORG</td>\n",
       "    </tr>\n",
       "    <tr>\n",
       "      <th>2</th>\n",
       "      <td>rejects</td>\n",
       "      <td>VBZ</td>\n",
       "      <td>B-VP</td>\n",
       "      <td>O</td>\n",
       "    </tr>\n",
       "    <tr>\n",
       "      <th>3</th>\n",
       "      <td>German</td>\n",
       "      <td>JJ</td>\n",
       "      <td>B-NP</td>\n",
       "      <td>B-MISC</td>\n",
       "    </tr>\n",
       "    <tr>\n",
       "      <th>4</th>\n",
       "      <td>call</td>\n",
       "      <td>NN</td>\n",
       "      <td>I-NP</td>\n",
       "      <td>O</td>\n",
       "    </tr>\n",
       "  </tbody>\n",
       "</table>\n",
       "</div>"
      ],
      "text/plain": [
       "        token pos_tag chunk_tag  ne_tag\n",
       "0  -DOCSTART-     -X-       -X-       O\n",
       "1          EU     NNP      B-NP   B-ORG\n",
       "2     rejects     VBZ      B-VP       O\n",
       "3      German      JJ      B-NP  B-MISC\n",
       "4        call      NN      I-NP       O"
      ]
     },
     "execution_count": 2,
     "metadata": {},
     "output_type": "execute_result"
    }
   ],
   "source": [
    "ner_data = 'Datasets/ner_dataset.txt'\n",
    "df = pd.read_csv(ner_data, sep=' ', header=None)\n",
    "df.columns = ['token', 'pos_tag', 'chunk_tag', 'ne_tag']\n",
    "df.head()"
   ]
  },
  {
   "cell_type": "code",
   "execution_count": 3,
   "metadata": {},
   "outputs": [
    {
     "name": "stdout",
     "output_type": "stream",
     "text": [
      "<class 'pandas.core.frame.DataFrame'>\n",
      "RangeIndex: 256145 entries, 0 to 256144\n",
      "Data columns (total 4 columns):\n",
      "token        256139 non-null object\n",
      "pos_tag      256145 non-null object\n",
      "chunk_tag    256145 non-null object\n",
      "ne_tag       253327 non-null object\n",
      "dtypes: object(4)\n",
      "memory usage: 7.8+ MB\n"
     ]
    }
   ],
   "source": [
    "df.info()"
   ]
  },
  {
   "cell_type": "markdown",
   "metadata": {},
   "source": [
    "Remove the rows with missing values: 6 are missing tokens, and 2,818 are missing named entity tags. These are presumably the empty lines after every sentence."
   ]
  },
  {
   "cell_type": "code",
   "execution_count": 4,
   "metadata": {},
   "outputs": [
    {
     "name": "stdout",
     "output_type": "stream",
     "text": [
      "token        6\n",
      "ne_tag    2818\n",
      "dtype: int64\n"
     ]
    },
    {
     "data": {
      "text/html": [
       "<div>\n",
       "<style scoped>\n",
       "    .dataframe tbody tr th:only-of-type {\n",
       "        vertical-align: middle;\n",
       "    }\n",
       "\n",
       "    .dataframe tbody tr th {\n",
       "        vertical-align: top;\n",
       "    }\n",
       "\n",
       "    .dataframe thead th {\n",
       "        text-align: right;\n",
       "    }\n",
       "</style>\n",
       "<table border=\"1\" class=\"dataframe\">\n",
       "  <thead>\n",
       "    <tr style=\"text-align: right;\">\n",
       "      <th></th>\n",
       "      <th>token</th>\n",
       "      <th>ne_tag</th>\n",
       "    </tr>\n",
       "  </thead>\n",
       "  <tbody>\n",
       "    <tr>\n",
       "      <th>75</th>\n",
       "      <td></td>\n",
       "      <td>NaN</td>\n",
       "    </tr>\n",
       "    <tr>\n",
       "      <th>93</th>\n",
       "      <td></td>\n",
       "      <td>NaN</td>\n",
       "    </tr>\n",
       "    <tr>\n",
       "      <th>260</th>\n",
       "      <td></td>\n",
       "      <td>NaN</td>\n",
       "    </tr>\n",
       "    <tr>\n",
       "      <th>264</th>\n",
       "      <td></td>\n",
       "      <td>NaN</td>\n",
       "    </tr>\n",
       "    <tr>\n",
       "      <th>366</th>\n",
       "      <td></td>\n",
       "      <td>NaN</td>\n",
       "    </tr>\n",
       "  </tbody>\n",
       "</table>\n",
       "</div>"
      ],
      "text/plain": [
       "    token ne_tag\n",
       "75           NaN\n",
       "93           NaN\n",
       "260          NaN\n",
       "264          NaN\n",
       "366          NaN"
      ]
     },
     "execution_count": 4,
     "metadata": {},
     "output_type": "execute_result"
    }
   ],
   "source": [
    "null_columns = df.columns[df.isnull().any()]\n",
    "print(df[null_columns].isnull().sum())\n",
    "\n",
    "df[df.isnull().any(axis=1)][null_columns].head()"
   ]
  },
  {
   "cell_type": "code",
   "execution_count": 5,
   "metadata": {},
   "outputs": [
    {
     "name": "stdout",
     "output_type": "stream",
     "text": [
      "<class 'pandas.core.frame.DataFrame'>\n",
      "RangeIndex: 253321 entries, 0 to 253320\n",
      "Data columns (total 4 columns):\n",
      "token        253321 non-null object\n",
      "pos_tag      253321 non-null object\n",
      "chunk_tag    253321 non-null object\n",
      "ne_tag       253321 non-null object\n",
      "dtypes: object(4)\n",
      "memory usage: 7.7+ MB\n"
     ]
    }
   ],
   "source": [
    "df.dropna(inplace=True)\n",
    "df.reset_index(drop=True, inplace=True) # Reset the index so that it reflects the length of the dataframe and its columns. \n",
    "df.info() # Confirm that the missing values have been dropped."
   ]
  },
  {
   "cell_type": "code",
   "execution_count": 6,
   "metadata": {},
   "outputs": [
    {
     "data": {
      "text/plain": [
       "NNP       42946\n",
       "NN        29923\n",
       "IN        24041\n",
       "CD        24000\n",
       "DT        16974\n",
       "JJ        14874\n",
       "NNS       12406\n",
       "VBD       10523\n",
       ".          9268\n",
       ",          9240\n",
       "VB         5371\n",
       "VBN        5098\n",
       "RB         4964\n",
       "CC         4585\n",
       "TO         4375\n",
       "PRP        4025\n",
       ")          3546\n",
       "(          3545\n",
       "VBG        3285\n",
       ":          3010\n",
       "VBZ        2937\n",
       "POS        1976\n",
       "PRP$       1942\n",
       "VBP        1801\n",
       "MD         1499\n",
       "-X-        1162\n",
       "NNPS        850\n",
       "RP          678\n",
       "WDT         661\n",
       "WP          655\n",
       "$           528\n",
       "SYM         525\n",
       "JJR         487\n",
       "WRB         477\n",
       "JJS         332\n",
       "RBR         216\n",
       "FW          195\n",
       "EX          176\n",
       "RBS          53\n",
       "''           46\n",
       "PDT          40\n",
       "UH           35\n",
       "WP$          32\n",
       "LS           14\n",
       "NN|SYM        5\n",
       "Name: pos_tag, dtype: int64"
      ]
     },
     "execution_count": 6,
     "metadata": {},
     "output_type": "execute_result"
    }
   ],
   "source": [
    "df.pos_tag.value_counts()"
   ]
  },
  {
   "cell_type": "code",
   "execution_count": 67,
   "metadata": {},
   "outputs": [
    {
     "data": {
      "image/png": "[encoded data removed]",
      "text/plain": [
       "<Figure size 1440x576 with 1 Axes>"
      ]
     },
     "metadata": {},
     "output_type": "display_data"
    }
   ],
   "source": [
    "fig = plt.figure(figsize=(20,8))\n",
    "plt.title('POS Tag Frequency')\n",
    "sns.countplot(data=df, x='pos_tag');"
   ]
  },
  {
   "cell_type": "code",
   "execution_count": 68,
   "metadata": {},
   "outputs": [
    {
     "data": {
      "text/plain": [
       "I-NP       82998\n",
       "B-NP       72025\n",
       "O          31800\n",
       "B-PP       23727\n",
       "B-VP       22743\n",
       "I-VP       10989\n",
       "B-ADVP      3287\n",
       "B-SBAR      1635\n",
       "B-ADJP      1471\n",
       "-X-         1162\n",
       "B-PRT        674\n",
       "I-ADJP       263\n",
       "I-ADVP       177\n",
       "I-PP         120\n",
       "B-INTJ        90\n",
       "I-CONJP       52\n",
       "B-CONJP       41\n",
       "B-LST         35\n",
       "I-SBAR        25\n",
       "I-LST          4\n",
       "I-PRT          2\n",
       "I-INTJ         1\n",
       "Name: chunk_tag, dtype: int64"
      ]
     },
     "execution_count": 68,
     "metadata": {},
     "output_type": "execute_result"
    }
   ],
   "source": [
    "df.chunk_tag.value_counts()"
   ]
  },
  {
   "cell_type": "code",
   "execution_count": 69,
   "metadata": {},
   "outputs": [
    {
     "data": {
      "image/png": "[encoded data removed]",
      "text/plain": [
       "<Figure size 1152x576 with 1 Axes>"
      ]
     },
     "metadata": {},
     "output_type": "display_data"
    }
   ],
   "source": [
    "fig = plt.figure(figsize=(16,8))\n",
    "plt.title('Chunk Tag Frequency')\n",
    "sns.countplot(data=df, x='chunk_tag');"
   ]
  },
  {
   "cell_type": "markdown",
   "metadata": {},
   "source": [
    "The vast majority of tokens are not named entities: 210,679 out of 253,321 (83.17%). This is one baseline for classifier accuracy."
   ]
  },
  {
   "cell_type": "code",
   "execution_count": 70,
   "metadata": {},
   "outputs": [
    {
     "data": {
      "text/plain": [
       "O         210679\n",
       "B-LOC       8977\n",
       "B-PER       8442\n",
       "B-ORG       7662\n",
       "I-PER       5831\n",
       "I-ORG       4455\n",
       "B-MISC      4360\n",
       "I-MISC      1501\n",
       "I-LOC       1414\n",
       "Name: ne_tag, dtype: int64"
      ]
     },
     "execution_count": 70,
     "metadata": {},
     "output_type": "execute_result"
    }
   ],
   "source": [
    "df.ne_tag.value_counts()"
   ]
  },
  {
   "cell_type": "code",
   "execution_count": 71,
   "metadata": {},
   "outputs": [
    {
     "data": {
      "image/png": "[encoded data removed]",
      "text/plain": [
       "<Figure size 864x576 with 1 Axes>"
      ]
     },
     "metadata": {},
     "output_type": "display_data"
    }
   ],
   "source": [
    "fig = plt.figure(figsize=(12,8))\n",
    "plt.title('Named Entity Tag Frequency')\n",
    "sns.countplot(data=df, x='ne_tag');"
   ]
  },
  {
   "cell_type": "markdown",
   "metadata": {},
   "source": [
    "To better understand the tags for feature engineering (what are the qualities/patterns that certain tags have?), generate examples of each.\n",
    "\n",
    "General named entity feature trends: capitalisation; POS tag is noun of some kind."
   ]
  },
  {
   "cell_type": "code",
   "execution_count": 72,
   "metadata": {},
   "outputs": [
    {
     "data": {
      "text/html": [
       "<div>\n",
       "<style scoped>\n",
       "    .dataframe tbody tr th:only-of-type {\n",
       "        vertical-align: middle;\n",
       "    }\n",
       "\n",
       "    .dataframe tbody tr th {\n",
       "        vertical-align: top;\n",
       "    }\n",
       "\n",
       "    .dataframe thead th {\n",
       "        text-align: right;\n",
       "    }\n",
       "</style>\n",
       "<table border=\"1\" class=\"dataframe\">\n",
       "  <thead>\n",
       "    <tr style=\"text-align: right;\">\n",
       "      <th></th>\n",
       "      <th>token</th>\n",
       "      <th>pos_tag</th>\n",
       "      <th>chunk_tag</th>\n",
       "      <th>ne_tag</th>\n",
       "    </tr>\n",
       "  </thead>\n",
       "  <tbody>\n",
       "    <tr>\n",
       "      <th>58122</th>\n",
       "      <td>Sam</td>\n",
       "      <td>NNP</td>\n",
       "      <td>B-NP</td>\n",
       "      <td>B-PER</td>\n",
       "    </tr>\n",
       "    <tr>\n",
       "      <th>174215</th>\n",
       "      <td>Mullally</td>\n",
       "      <td>NNP</td>\n",
       "      <td>B-NP</td>\n",
       "      <td>B-PER</td>\n",
       "    </tr>\n",
       "    <tr>\n",
       "      <th>138216</th>\n",
       "      <td>Shane</td>\n",
       "      <td>NNP</td>\n",
       "      <td>B-NP</td>\n",
       "      <td>B-PER</td>\n",
       "    </tr>\n",
       "    <tr>\n",
       "      <th>152658</th>\n",
       "      <td>Remmy</td>\n",
       "      <td>NNP</td>\n",
       "      <td>I-NP</td>\n",
       "      <td>B-PER</td>\n",
       "    </tr>\n",
       "    <tr>\n",
       "      <th>118294</th>\n",
       "      <td>Jack</td>\n",
       "      <td>NNP</td>\n",
       "      <td>B-NP</td>\n",
       "      <td>B-PER</td>\n",
       "    </tr>\n",
       "    <tr>\n",
       "      <th>64583</th>\n",
       "      <td>Olofsson</td>\n",
       "      <td>NNP</td>\n",
       "      <td>I-NP</td>\n",
       "      <td>B-PER</td>\n",
       "    </tr>\n",
       "    <tr>\n",
       "      <th>32450</th>\n",
       "      <td>Dennis</td>\n",
       "      <td>NNP</td>\n",
       "      <td>I-NP</td>\n",
       "      <td>B-PER</td>\n",
       "    </tr>\n",
       "    <tr>\n",
       "      <th>209174</th>\n",
       "      <td>D.</td>\n",
       "      <td>NNP</td>\n",
       "      <td>B-NP</td>\n",
       "      <td>B-PER</td>\n",
       "    </tr>\n",
       "    <tr>\n",
       "      <th>67252</th>\n",
       "      <td>Mullally</td>\n",
       "      <td>RB</td>\n",
       "      <td>B-NP</td>\n",
       "      <td>B-PER</td>\n",
       "    </tr>\n",
       "    <tr>\n",
       "      <th>246170</th>\n",
       "      <td>Fulgencio</td>\n",
       "      <td>NNP</td>\n",
       "      <td>B-NP</td>\n",
       "      <td>B-PER</td>\n",
       "    </tr>\n",
       "    <tr>\n",
       "      <th>241223</th>\n",
       "      <td>Abdullah</td>\n",
       "      <td>NNP</td>\n",
       "      <td>B-NP</td>\n",
       "      <td>B-PER</td>\n",
       "    </tr>\n",
       "    <tr>\n",
       "      <th>207902</th>\n",
       "      <td>Rohan</td>\n",
       "      <td>JJ</td>\n",
       "      <td>I-NP</td>\n",
       "      <td>B-PER</td>\n",
       "    </tr>\n",
       "    <tr>\n",
       "      <th>102535</th>\n",
       "      <td>Thomas</td>\n",
       "      <td>NNP</td>\n",
       "      <td>B-NP</td>\n",
       "      <td>B-PER</td>\n",
       "    </tr>\n",
       "    <tr>\n",
       "      <th>72941</th>\n",
       "      <td>Michele</td>\n",
       "      <td>NNP</td>\n",
       "      <td>I-NP</td>\n",
       "      <td>B-PER</td>\n",
       "    </tr>\n",
       "    <tr>\n",
       "      <th>146900</th>\n",
       "      <td>Vairelles</td>\n",
       "      <td>NNS</td>\n",
       "      <td>B-NP</td>\n",
       "      <td>B-PER</td>\n",
       "    </tr>\n",
       "    <tr>\n",
       "      <th>85487</th>\n",
       "      <td>G.</td>\n",
       "      <td>NNP</td>\n",
       "      <td>B-NP</td>\n",
       "      <td>B-PER</td>\n",
       "    </tr>\n",
       "    <tr>\n",
       "      <th>34021</th>\n",
       "      <td>Noureddine</td>\n",
       "      <td>NNP</td>\n",
       "      <td>I-NP</td>\n",
       "      <td>B-PER</td>\n",
       "    </tr>\n",
       "    <tr>\n",
       "      <th>241534</th>\n",
       "      <td>James</td>\n",
       "      <td>NNP</td>\n",
       "      <td>I-NP</td>\n",
       "      <td>B-PER</td>\n",
       "    </tr>\n",
       "    <tr>\n",
       "      <th>143666</th>\n",
       "      <td>Steffi</td>\n",
       "      <td>NNP</td>\n",
       "      <td>I-NP</td>\n",
       "      <td>B-PER</td>\n",
       "    </tr>\n",
       "    <tr>\n",
       "      <th>124111</th>\n",
       "      <td>Lanusse</td>\n",
       "      <td>NNP</td>\n",
       "      <td>B-NP</td>\n",
       "      <td>B-PER</td>\n",
       "    </tr>\n",
       "  </tbody>\n",
       "</table>\n",
       "</div>"
      ],
      "text/plain": [
       "             token pos_tag chunk_tag ne_tag\n",
       "58122          Sam     NNP      B-NP  B-PER\n",
       "174215    Mullally     NNP      B-NP  B-PER\n",
       "138216       Shane     NNP      B-NP  B-PER\n",
       "152658       Remmy     NNP      I-NP  B-PER\n",
       "118294        Jack     NNP      B-NP  B-PER\n",
       "64583     Olofsson     NNP      I-NP  B-PER\n",
       "32450       Dennis     NNP      I-NP  B-PER\n",
       "209174          D.     NNP      B-NP  B-PER\n",
       "67252     Mullally      RB      B-NP  B-PER\n",
       "246170   Fulgencio     NNP      B-NP  B-PER\n",
       "241223    Abdullah     NNP      B-NP  B-PER\n",
       "207902       Rohan      JJ      I-NP  B-PER\n",
       "102535      Thomas     NNP      B-NP  B-PER\n",
       "72941      Michele     NNP      I-NP  B-PER\n",
       "146900   Vairelles     NNS      B-NP  B-PER\n",
       "85487           G.     NNP      B-NP  B-PER\n",
       "34021   Noureddine     NNP      I-NP  B-PER\n",
       "241534       James     NNP      I-NP  B-PER\n",
       "143666      Steffi     NNP      I-NP  B-PER\n",
       "124111     Lanusse     NNP      B-NP  B-PER"
      ]
     },
     "execution_count": 72,
     "metadata": {},
     "output_type": "execute_result"
    }
   ],
   "source": [
    "#df[df.ne_tag=='B-ORG'].sample(20) # First word in organisation name. Some tokens are abbreviations in all caps (e.g., 'EU').\n",
    "#df[df.ne_tag=='I-ORG'].sample(20) # Second word in organisation name.\n",
    "#df[df.ne_tag=='B-MISC'].sample(20) # Not sure how this differs from B-ORG. Many are adjectives.\n",
    "#df[df.ne_tag=='I-MISC'].sample(20) # Second part of B-MISC.\n",
    "df[df.ne_tag=='B-PER'].sample(20) # First names of people.\n",
    "#df[df.ne_tag=='I-PER'].sample(20) # Surnames of people. Mostly capitalised but not always (e.g., 'van').\n",
    "#df[df.ne_tag=='B-LOC'].sample(20) # Country and city names.\n",
    "#df[df.ne_tag=='I-LOC'].sample(20) # Second part of country and city names."
   ]
  },
  {
   "cell_type": "markdown",
   "metadata": {},
   "source": [
    "### III. Feature Engineering and Prepare Training and Validation Sets"
   ]
  },
  {
   "cell_type": "code",
   "execution_count": 7,
   "metadata": {},
   "outputs": [],
   "source": [
    "def features(token, index, pos_tag, ne_tag):\n",
    "    first_letter = token[index][0]\n",
    "    features = {'token': token[index],\n",
    "                'pos': pos_tag[index],\n",
    "#                'chunk': chunk_tag[index],\n",
    "                'prev_token': '' if index == 0 else token[index-1],\n",
    "                'prev_pos': '' if index == 0 else pos_tag[index-1],\n",
    "                'prev_ne': '' if index == 0 else ne_tag[index-1],\n",
    "                'next_token': '' if index == len(df.token)-1 else token[index+1],\n",
    "                'next_pos': '' if index == len(df.token)-1 else pos_tag[index+1],\n",
    "                'prev_prev_token': '' if index == 0 or index == 1 else token[index-2],\n",
    "                'prev_prev_pos': '' if index == 0 or index == 1 else pos_tag[index-2],\n",
    "                'next_next_token': '' if index == len(df.token)-1 or index == len(df.token)-2 else token[index+2],\n",
    "                'next_next_pos': '' if index == len(df.token)-1 or index == len(df.token)-2 else pos_tag[index+2],\n",
    "                'is_capitalized': first_letter.upper() in string.ascii_uppercase and first_letter.upper() == first_letter,\n",
    "                'is_numeric': token[index].isdigit(),                \n",
    "                'is_all_caps': token[index].upper() == token[index],\n",
    "                'caps_inside': token[index][1:].lower() != token[index][1:]\n",
    "                }\n",
    "    return features\n",
    "    \n",
    "X = []\n",
    "\n",
    "for index in range(len(df.token)):\n",
    "    X.append(features(df.token, index, df.pos_tag, df.ne_tag))"
   ]
  },
  {
   "cell_type": "code",
   "execution_count": 8,
   "metadata": {},
   "outputs": [
    {
     "data": {
      "text/plain": [
       "[{'caps_inside': True,\n",
       "  'is_all_caps': True,\n",
       "  'is_capitalized': False,\n",
       "  'is_numeric': False,\n",
       "  'next_next_pos': 'VBZ',\n",
       "  'next_next_token': 'rejects',\n",
       "  'next_pos': 'NNP',\n",
       "  'next_token': 'EU',\n",
       "  'pos': '-X-',\n",
       "  'prev_ne': '',\n",
       "  'prev_pos': '',\n",
       "  'prev_prev_pos': '',\n",
       "  'prev_prev_token': '',\n",
       "  'prev_token': '',\n",
       "  'token': '-DOCSTART-'},\n",
       " {'caps_inside': True,\n",
       "  'is_all_caps': True,\n",
       "  'is_capitalized': True,\n",
       "  'is_numeric': False,\n",
       "  'next_next_pos': 'JJ',\n",
       "  'next_next_token': 'German',\n",
       "  'next_pos': 'VBZ',\n",
       "  'next_token': 'rejects',\n",
       "  'pos': 'NNP',\n",
       "  'prev_ne': 'O',\n",
       "  'prev_pos': '-X-',\n",
       "  'prev_prev_pos': '',\n",
       "  'prev_prev_token': '',\n",
       "  'prev_token': '-DOCSTART-',\n",
       "  'token': 'EU'},\n",
       " {'caps_inside': False,\n",
       "  'is_all_caps': False,\n",
       "  'is_capitalized': False,\n",
       "  'is_numeric': False,\n",
       "  'next_next_pos': 'NN',\n",
       "  'next_next_token': 'call',\n",
       "  'next_pos': 'JJ',\n",
       "  'next_token': 'German',\n",
       "  'pos': 'VBZ',\n",
       "  'prev_ne': 'B-ORG',\n",
       "  'prev_pos': 'NNP',\n",
       "  'prev_prev_pos': '-X-',\n",
       "  'prev_prev_token': '-DOCSTART-',\n",
       "  'prev_token': 'EU',\n",
       "  'token': 'rejects'},\n",
       " {'caps_inside': False,\n",
       "  'is_all_caps': False,\n",
       "  'is_capitalized': True,\n",
       "  'is_numeric': False,\n",
       "  'next_next_pos': 'TO',\n",
       "  'next_next_token': 'to',\n",
       "  'next_pos': 'NN',\n",
       "  'next_token': 'call',\n",
       "  'pos': 'JJ',\n",
       "  'prev_ne': 'O',\n",
       "  'prev_pos': 'VBZ',\n",
       "  'prev_prev_pos': 'NNP',\n",
       "  'prev_prev_token': 'EU',\n",
       "  'prev_token': 'rejects',\n",
       "  'token': 'German'},\n",
       " {'caps_inside': False,\n",
       "  'is_all_caps': False,\n",
       "  'is_capitalized': False,\n",
       "  'is_numeric': False,\n",
       "  'next_next_pos': 'VB',\n",
       "  'next_next_token': 'boycott',\n",
       "  'next_pos': 'TO',\n",
       "  'next_token': 'to',\n",
       "  'pos': 'NN',\n",
       "  'prev_ne': 'B-MISC',\n",
       "  'prev_pos': 'JJ',\n",
       "  'prev_prev_pos': 'VBZ',\n",
       "  'prev_prev_token': 'rejects',\n",
       "  'prev_token': 'German',\n",
       "  'token': 'call'}]"
      ]
     },
     "execution_count": 8,
     "metadata": {},
     "output_type": "execute_result"
    }
   ],
   "source": [
    "X[:5]"
   ]
  },
  {
   "cell_type": "code",
   "execution_count": 9,
   "metadata": {},
   "outputs": [
    {
     "name": "stdout",
     "output_type": "stream",
     "text": [
      "Size of training set (POS tags): 227988\n",
      "Size of test set (POS tags): 25333\n",
      "Size of training set (chunk tags): 227988\n",
      "Size of test set (chunk tags): 25333\n"
     ]
    }
   ],
   "source": [
    "y = df['ne_tag']\n",
    "\n",
    "X_train, X_test, y_train, y_test, indices_train, indices_test = train_test_split(X, y, df.index, test_size=0.1, random_state=0)\n",
    "\n",
    "print(\"Size of training set (POS tags):\", len(X_train)) \n",
    "print(\"Size of test set (POS tags):\", len(X_test)) \n",
    "print(\"Size of training set (chunk tags):\", len(y_train)) \n",
    "print(\"Size of test set (chunk tags):\", len(y_test)) "
   ]
  },
  {
   "cell_type": "markdown",
   "metadata": {},
   "source": [
    "### IV. Classifier Training"
   ]
  },
  {
   "cell_type": "code",
   "execution_count": 162,
   "metadata": {},
   "outputs": [
    {
     "name": "stdout",
     "output_type": "stream",
     "text": [
      "Total time: 15.670546293258667\n",
      "Mean F1 score (weighted): 0.9387959473000405\n"
     ]
    }
   ],
   "source": [
    "# token, pos: 0.8932555327159474\n",
    "# token, chunk: 0.8494862890783083 (took a LOT longer)\n",
    "# token, pos, chunk: 0.8957114704338746 (chunk doesn't help)\n",
    "# token, pos, previous token/pos: 0.8995017958096173\n",
    "# token, pos, previous token/pos, next token/pos: 0.9055109354730966\n",
    "# token, pos, previous token/pos, next token/pos, is_capitalised: 0.9115229634875965\n",
    "# token, pos, previous token/pos, previous previous token/pos, next token/pos, next next token/pos, is_capitalised: 0.9128023148431639\n",
    "# '', is_numeric: 0.9127205040729689\n",
    "# '', is_all_caps: 0.9132049059426229\n",
    "# '', caps_inside: 0.9142095785522023\n",
    "# ', prev_ne: 0.9387959473000405\n",
    "\n",
    "start_time = time.time()\n",
    "\n",
    "clf_dt = Pipeline([('vectorizer', DictVectorizer(sparse=False)),\n",
    "                   ('classifier', DecisionTreeClassifier(random_state=0, criterion='entropy'))])\n",
    " \n",
    "clf_dt.fit(X_train[:10000], y_train[:10000])\n",
    "\n",
    "end_time = time.time()\n",
    "print(\"Total time:\", end_time-start_time)\n",
    "\n",
    "predicted_dt = clf_dt.predict(X_test)\n",
    "print(\"Mean F1 score (weighted):\", metrics.f1_score(y_test, predicted_dt, average='weighted'))"
   ]
  },
  {
   "cell_type": "code",
   "execution_count": 168,
   "metadata": {},
   "outputs": [
    {
     "name": "stdout",
     "output_type": "stream",
     "text": [
      "Total time: 172.65969443321228\n",
      "Mean F1 score (weighted): 0.9533148711103568\n"
     ]
    }
   ],
   "source": [
    "start_time = time.time()\n",
    "\n",
    "clf_nb = Pipeline([('vectorizer', DictVectorizer(sparse=False)),\n",
    "                   ('classifier', MultinomialNB(alpha=0.01))])\n",
    " \n",
    "clf_nb.fit(X_train[:50000], y_train[:50000])\n",
    "\n",
    "end_time = time.time()\n",
    "print(\"Total time:\", end_time-start_time)\n",
    "\n",
    "predicted_nb = clf_nb.predict(X_test)\n",
    "print(\"Mean F1 score (weighted):\", metrics.f1_score(y_test, predicted_nb, average='weighted'))"
   ]
  },
  {
   "cell_type": "code",
   "execution_count": 167,
   "metadata": {},
   "outputs": [
    {
     "name": "stderr",
     "output_type": "stream",
     "text": [
      "C:\\Users\\Periwynkle\\Anaconda3\\lib\\site-packages\\sklearn\\linear_model\\logistic.py:459: FutureWarning: Default multi_class will be changed to 'auto' in 0.22. Specify the multi_class option to silence this warning.\n",
      "  \"this warning.\", FutureWarning)\n"
     ]
    },
    {
     "name": "stdout",
     "output_type": "stream",
     "text": [
      "Total time: 130.3456950187683\n",
      "Mean F1 score (weighted): 0.9636838347388728\n"
     ]
    }
   ],
   "source": [
    "start_time = time.time()\n",
    "\n",
    "clf_lr = Pipeline([('vectorizer', DictVectorizer(sparse=False)),\n",
    "                   ('classifier', LogisticRegression(random_state=0, class_weight='balanced', solver='liblinear'))])\n",
    " \n",
    "clf_lr.fit(X_train[:50000], y_train[:50000])\n",
    "\n",
    "end_time = time.time()\n",
    "print(\"Total time:\", end_time-start_time)\n",
    "\n",
    "predicted_lr = clf_lr.predict(X_test)\n",
    "print(\"Mean F1 score (weighted):\", metrics.f1_score(y_test, predicted_lr, average='weighted'))"
   ]
  },
  {
   "cell_type": "code",
   "execution_count": 10,
   "metadata": {},
   "outputs": [
    {
     "name": "stdout",
     "output_type": "stream",
     "text": [
      "Total time: 103.70104312896729\n",
      "Mean F1 score (weighted): 0.9740423764118118\n"
     ]
    }
   ],
   "source": [
    "start_time = time.time()\n",
    "\n",
    "clf_svc = Pipeline([('vectorizer', DictVectorizer(sparse=False)),\n",
    "                    ('classifier', LinearSVC(random_state=0, class_weight='balanced', max_iter=10000))])\n",
    " \n",
    "clf_svc.fit(X_train[:50000], y_train[:50000])\n",
    "\n",
    "end_time = time.time()\n",
    "print(\"Total time:\", end_time-start_time)\n",
    "\n",
    "predicted_svc = clf_svc.predict(X_test)\n",
    "print(\"Mean F1 score (weighted):\", metrics.f1_score(y_test, predicted_svc, average='weighted'))"
   ]
  },
  {
   "cell_type": "code",
   "execution_count": 11,
   "metadata": {},
   "outputs": [
    {
     "name": "stdout",
     "output_type": "stream",
     "text": [
      "              precision    recall  f1-score   support\n",
      "\n",
      "       B-LOC       0.87      0.91      0.89       901\n",
      "      B-MISC       0.82      0.81      0.82       434\n",
      "       B-ORG       0.82      0.77      0.79       783\n",
      "       B-PER       0.86      0.90      0.88       856\n",
      "       I-LOC       0.85      0.96      0.90       157\n",
      "      I-MISC       0.80      0.95      0.87       148\n",
      "       I-ORG       0.95      0.96      0.95       452\n",
      "       I-PER       0.98      1.00      0.99       551\n",
      "           O       1.00      0.99      0.99     21051\n",
      "\n",
      "   micro avg       0.97      0.97      0.97     25333\n",
      "   macro avg       0.88      0.92      0.90     25333\n",
      "weighted avg       0.97      0.97      0.97     25333\n",
      "\n"
     ]
    }
   ],
   "source": [
    "print(metrics.classification_report(y_test, predicted_svc))"
   ]
  },
  {
   "cell_type": "code",
   "execution_count": 12,
   "metadata": {},
   "outputs": [],
   "source": [
    "save_classifier = open('ne_clf_svc.pickle', 'wb') \n",
    "pickle.dump(clf_svc, save_classifier)\n",
    "save_classifier.close()"
   ]
  },
  {
   "cell_type": "code",
   "execution_count": null,
   "metadata": {},
   "outputs": [],
   "source": []
  }
 ],
 "metadata": {
  "anaconda-cloud": {},
  "kernelspec": {
   "display_name": "Python [default]",
   "language": "python",
   "name": "python3"
  },
  "language_info": {
   "codemirror_mode": {
    "name": "ipython",
    "version": 3
   },
   "file_extension": ".py",
   "mimetype": "text/x-python",
   "name": "python",
   "nbconvert_exporter": "python",
   "pygments_lexer": "ipython3",
   "version": "3.5.5"
  }
 },
 "nbformat": 4,
 "nbformat_minor": 2
}
